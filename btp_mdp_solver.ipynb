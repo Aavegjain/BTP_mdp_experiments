{
 "cells": [
  {
   "cell_type": "code",
   "execution_count": 210,
   "metadata": {},
   "outputs": [
    {
     "name": "stderr",
     "output_type": "stream",
     "text": [
      "\u001b[32m\u001b[1m   Resolving\u001b[22m\u001b[39m package versions...\n",
      "\u001b[32m\u001b[1m  No Changes\u001b[22m\u001b[39m to `C:\\Users\\surbh\\.julia\\environments\\v1.10\\Project.toml`\n",
      "\u001b[32m\u001b[1m  No Changes\u001b[22m\u001b[39m to `C:\\Users\\surbh\\.julia\\environments\\v1.10\\Manifest.toml`\n",
      "\u001b[32m\u001b[1m   Resolving\u001b[22m\u001b[39m package versions...\n",
      "\u001b[32m\u001b[1m  No Changes\u001b[22m\u001b[39m to `C:\\Users\\surbh\\.julia\\environments\\v1.10\\Project.toml`\n",
      "\u001b[32m\u001b[1m  No Changes\u001b[22m\u001b[39m to `C:\\Users\\surbh\\.julia\\environments\\v1.10\\Manifest.toml`\n",
      "\u001b[32m\u001b[1m   Resolving\u001b[22m\u001b[39m package versions...\n",
      "\u001b[32m\u001b[1m  No Changes\u001b[22m\u001b[39m to `C:\\Users\\surbh\\.julia\\environments\\v1.10\\Project.toml`\n",
      "\u001b[32m\u001b[1m  No Changes\u001b[22m\u001b[39m to `C:\\Users\\surbh\\.julia\\environments\\v1.10\\Manifest.toml`\n",
      "\u001b[32m\u001b[1m   Resolving\u001b[22m\u001b[39m package versions...\n",
      "\u001b[32m\u001b[1m  No Changes\u001b[22m\u001b[39m to `C:\\Users\\surbh\\.julia\\environments\\v1.10\\Project.toml`\n",
      "\u001b[32m\u001b[1m  No Changes\u001b[22m\u001b[39m to `C:\\Users\\surbh\\.julia\\environments\\v1.10\\Manifest.toml`\n",
      "\u001b[32m\u001b[1m   Resolving\u001b[22m\u001b[39m package versions...\n",
      "\u001b[32m\u001b[1m  No Changes\u001b[22m\u001b[39m to `C:\\Users\\surbh\\.julia\\environments\\v1.10\\Project.toml`\n",
      "\u001b[32m\u001b[1m  No Changes\u001b[22m\u001b[39m to `C:\\Users\\surbh\\.julia\\environments\\v1.10\\Manifest.toml`\n",
      "\u001b[32m\u001b[1m   Resolving\u001b[22m\u001b[39m package versions...\n",
      "\u001b[32m\u001b[1m  No Changes\u001b[22m\u001b[39m to `C:\\Users\\surbh\\.julia\\environments\\v1.10\\Project.toml`\n",
      "\u001b[32m\u001b[1m  No Changes\u001b[22m\u001b[39m to `C:\\Users\\surbh\\.julia\\environments\\v1.10\\Manifest.toml`\n",
      "\u001b[32m\u001b[1m   Resolving\u001b[22m\u001b[39m package versions...\n",
      "\u001b[32m\u001b[1m  No Changes\u001b[22m\u001b[39m to `C:\\Users\\surbh\\.julia\\environments\\v1.10\\Project.toml`\n",
      "\u001b[32m\u001b[1m  No Changes\u001b[22m\u001b[39m to `C:\\Users\\surbh\\.julia\\environments\\v1.10\\Manifest.toml`\n"
     ]
    }
   ],
   "source": [
    "import Pkg\n",
    "Pkg.add(\"POMDPs\")\n",
    "Pkg.add(\"POMDPLinter\")\n",
    "Pkg.add(\"POMDPModels\")\n",
    "Pkg.add(\"POMDPTools\")\n",
    "Pkg.add(\"POMDPPolicies\")\n",
    "Pkg.add(\"IterTools\")\n",
    "Pkg.add(\"DiscreteValueIteration\")"
   ]
  },
  {
   "cell_type": "code",
   "execution_count": 211,
   "metadata": {},
   "outputs": [],
   "source": [
    "using POMDPs\n",
    "using IterTools"
   ]
  },
  {
   "cell_type": "code",
   "execution_count": 212,
   "metadata": {},
   "outputs": [],
   "source": [
    "\n",
    "# Define a struct for an individual object's state using NamedTuples\n",
    "struct ObjectState\n",
    "    attributes::NamedTuple # Attributes of each object stored as NamedTuple\n",
    "end\n",
    "\n",
    "# Define a struct for the factored state space using NamedTuples\n",
    "struct MyFactoredState\n",
    "    attributes::NamedTuple # State-wide attributes stored as NamedTuple\n",
    "    objects::NamedTuple    # NamedTuple to store multiple objects dynamically\n",
    "end\n"
   ]
  },
  {
   "cell_type": "code",
   "execution_count": 213,
   "metadata": {},
   "outputs": [
    {
     "data": {
      "text/plain": [
       "generate_object_combinations (generic function with 1 method)"
      ]
     },
     "metadata": {},
     "output_type": "display_data"
    }
   ],
   "source": [
    "\n",
    "# Define the state space function\n",
    "function POMDPs.states(::Type{<:MyFactoredState}, object_ranges::NamedTuple, state_attr_ranges::NamedTuple)\n",
    "    # Generate all possible combinations for state attributes using IterTools\n",
    "    attribute_combinations = Iterators.product(state_attr_ranges...)\n",
    "\n",
    "    # List to store all possible states\n",
    "    # state_space = []\n",
    "    state_space = Vector{MyFactoredState}()\n",
    "\n",
    "    # Iterate over each combination of state attributes\n",
    "    for attr_comb in attribute_combinations\n",
    "        # Create a NamedTuple for the state-wide attributes\n",
    "        state_attrs = NamedTuple(zip(keys(state_attr_ranges), attr_comb))\n",
    "\n",
    "        # Create all combinations for the objects' attributes\n",
    "        object_combinations = generate_object_combinations(object_ranges)\n",
    "\n",
    "        # Iterate over the object configurations\n",
    "        for obj_comb in object_combinations\n",
    "            # Create a NamedTuple for each object\n",
    "            objects_namedtuple = NamedTuple((obj_name => ObjectState(NamedTuple(zip(keys(object_attr), obj)))) \n",
    "                                             for (obj_name, object_attr, obj) in zip(keys(object_ranges), values(object_ranges), obj_comb))\n",
    "            \n",
    "            # Push the new state to the state space\n",
    "            push!(state_space, MyFactoredState(state_attrs, objects_namedtuple))\n",
    "        end\n",
    "    end\n",
    "    # push error state \n",
    "    push!(state_space,  MyFactoredState(\n",
    "        NamedTuple((Redball1Matched = -1, Blackball1Matched = -1)),\n",
    "        NamedTuple((Redball1 = ObjectState((pos = -1,)), Blackball1 = ObjectState((pos = -1,)), Redbox1 = ObjectState((pos = -1, )), Blackbox1 = ObjectState((pos = -1,))))\n",
    "    ))\n",
    "    return state_space\n",
    "end\n",
    "\n",
    "# Helper function to generate all possible combinations for objects' attributes\n",
    "function generate_object_combinations(object_ranges::NamedTuple)\n",
    "    # List to store all combinations for the objects\n",
    "    object_combinations = []\n",
    "\n",
    "    # Create iterators for all object attribute combinations\n",
    "    for object_attr_range in values(object_ranges)\n",
    "        object_combinations_for_one = Iterators.product(object_attr_range...)\n",
    "        push!(object_combinations, object_combinations_for_one)\n",
    "    end\n",
    "\n",
    "    # Combine all object combinations into a single iterator\n",
    "    combined_combinations = Iterators.product(object_combinations...)\n",
    "    \n",
    "    return combined_combinations\n",
    "end\n",
    "\n"
   ]
  },
  {
   "cell_type": "code",
   "execution_count": 214,
   "metadata": {},
   "outputs": [
    {
     "data": {
      "text/plain": [
       "(Redball1Matched = 0:1, Blackball1Matched = 0:1)"
      ]
     },
     "metadata": {},
     "output_type": "display_data"
    }
   ],
   "source": [
    "\n",
    "\n",
    "# Define the object attributes and ranges\n",
    "object_ranges = NamedTuple((\n",
    "    Redball1 = NamedTuple((pos = 1:6 , isMovable = 0:1)),  # Object o1 attributes\n",
    "    Redball2 = NamedTuple((pos = 1:6 , isMovable = 0:1)),  # Object o2 attributes \n",
    "    Blackball1 = NamedTuple((pos = 1:6 , isMovable = 0:1)), \n",
    "    Blackball2 = NamedTuple((pos = 1:6 , isMovable = 0:1)),\n",
    "    Redbox1 = NamedTuple((pos = 1:6 , isMovable = 0:1)),\n",
    "    Blackbox1 = NamedTuple((pos = 1:6 , isMovable = 0:1))\n",
    "    ))\n",
    "\n",
    "# object_ranges = NamedTuple((\n",
    "#     Redball1 = NamedTuple((pos = 1:4, )),  # Object o1 attributes \n",
    "#     Blackball1 = NamedTuple((pos = 1:4 ,)),\n",
    "#     Redbox1 = NamedTuple((pos = 1:4, )),\n",
    "#     Blackbox1 = NamedTuple((pos = 1:4, ))\n",
    "# ))\n",
    "\n",
    "state_attr_ranges = NamedTuple((\n",
    "    Redball1Matched = 0:1,\n",
    "    Blackball1Matched = 0:1 \n",
    "))\n",
    "\n",
    "\n",
    "\n",
    "# Define the global state attributes and ranges\n",
    "# state_attr_ranges = NamedTuple((\n",
    "#     Redball1Matched = 0:1,\n",
    "#     Redball2Matched = 0:1,\n",
    "#     Blackball1Matched = 0:1,\n",
    "#     Blackball2Matched = 0:1,\n",
    "#     RedballsMatched = 0:2,\n",
    "#     BlackballsMatched = 0:2 \n",
    "# ))\n",
    "\n",
    "# Generate the state space\n",
    "# state_space = POMDPs.states(MyFactoredState, object_ranges, state_attr_ranges)\n"
   ]
  },
  {
   "cell_type": "code",
   "execution_count": 215,
   "metadata": {},
   "outputs": [
    {
     "data": {
      "text/plain": [
       "find_goal_states (generic function with 1 method)"
      ]
     },
     "metadata": {},
     "output_type": "display_data"
    }
   ],
   "source": [
    "function temp_isterminal(s::MyFactoredState) \n",
    "    return s.attributes.Redball1Matched == 1 && s.attributes.Blackball1Matched == 1 \n",
    "end\n",
    "\n",
    "# Function to find all goal states in the MDP\n",
    "function find_goal_states(state_array::Vector{MyFactoredState})\n",
    "    # Access the precomputed state array\n",
    " \n",
    "    # Initialize an empty vector to store goal states\n",
    "    goal_states = Vector{MyFactoredState}()\n",
    "\n",
    "    # Iterate over each state in the state array\n",
    "    for state in state_array\n",
    "        # Check if the state is a terminal (goal) state\n",
    "        if temp_isterminal(state)\n",
    "            push!(goal_states, state) # Add to goal states vector\n",
    "        end\n",
    "    end\n",
    "\n",
    "    return goal_states\n",
    "end\n"
   ]
  },
  {
   "cell_type": "code",
   "execution_count": 216,
   "metadata": {},
   "outputs": [
    {
     "data": {
      "text/plain": [
       "temp_actions (generic function with 1 method)"
      ]
     },
     "metadata": {},
     "output_type": "display_data"
    }
   ],
   "source": [
    "\n",
    "# Define an Action struct with two attributes of type Symbol\n",
    "struct MatchAction\n",
    "    attr1::Symbol  # obj1 \n",
    "    attr2::Symbol  # obj2 \n",
    "end\n",
    "\n",
    "# function temp_actions() \n",
    "#     return [MatchAction(:Redball1, :Redbox1), MatchAction(:Blackball1, :Redbox1), MatchAction(:Redball2, :Redbox1), MatchAction(:Blackball2, :Redbox1), MatchAction(:Redball1, :Blackbox1), MatchAction(:Blackball1, :Blackbox1), MatchAction(:Redball2, :Blackbox1), MatchAction(:Blackball2, :Blackbox1)] \n",
    "# end\n",
    "\n",
    "function temp_actions()\n",
    "    return [MatchAction(:Redball1, :Redbox1), MatchAction(:Blackball1, :Redbox1), MatchAction(:Redball1, :Blackbox1), MatchAction(:Blackball1, :Blackbox1)]\n",
    "end\n",
    "\n"
   ]
  },
  {
   "cell_type": "code",
   "execution_count": 234,
   "metadata": {},
   "outputs": [
    {
     "name": "stdout",
     "output_type": "stream",
     "text": [
      "state array made \n",
      "goal states found\n"
     ]
    },
    {
     "data": {
      "text/plain": [
       "GameMDP(MyFactoredState[MyFactoredState((Redball1Matched = 1, Blackball1Matched = 1), (Redball1 = ObjectState((pos = 1,)), Blackball1 = ObjectState((pos = 1,)), Redbox1 = ObjectState((pos = 1,)), Blackbox1 = ObjectState((pos = 1,)))), MyFactoredState((Redball1Matched = 1, Blackball1Matched = 1), (Redball1 = ObjectState((pos = 2,)), Blackball1 = ObjectState((pos = 1,)), Redbox1 = ObjectState((pos = 1,)), Blackbox1 = ObjectState((pos = 1,)))), MyFactoredState((Redball1Matched = 1, Blackball1Matched = 1), (Redball1 = ObjectState((pos = 3,)), Blackball1 = ObjectState((pos = 1,)), Redbox1 = ObjectState((pos = 1,)), Blackbox1 = ObjectState((pos = 1,)))), MyFactoredState((Redball1Matched = 1, Blackball1Matched = 1), (Redball1 = ObjectState((pos = 4,)), Blackball1 = ObjectState((pos = 1,)), Redbox1 = ObjectState((pos = 1,)), Blackbox1 = ObjectState((pos = 1,)))), MyFactoredState((Redball1Matched = 1, Blackball1Matched = 1), (Redball1 = ObjectState((pos = 1,)), Blackball1 = ObjectState((pos = 2,)), Redbox1 = ObjectState((pos = 1,)), Blackbox1 = ObjectState((pos = 1,)))), MyFactoredState((Redball1Matched = 1, Blackball1Matched = 1), (Redball1 = ObjectState((pos = 2,)), Blackball1 = ObjectState((pos = 2,)), Redbox1 = ObjectState((pos = 1,)), Blackbox1 = ObjectState((pos = 1,)))), MyFactoredState((Redball1Matched = 1, Blackball1Matched = 1), (Redball1 = ObjectState((pos = 3,)), Blackball1 = ObjectState((pos = 2,)), Redbox1 = ObjectState((pos = 1,)), Blackbox1 = ObjectState((pos = 1,)))), MyFactoredState((Redball1Matched = 1, Blackball1Matched = 1), (Redball1 = ObjectState((pos = 4,)), Blackball1 = ObjectState((pos = 2,)), Redbox1 = ObjectState((pos = 1,)), Blackbox1 = ObjectState((pos = 1,)))), MyFactoredState((Redball1Matched = 1, Blackball1Matched = 1), (Redball1 = ObjectState((pos = 1,)), Blackball1 = ObjectState((pos = 3,)), Redbox1 = ObjectState((pos = 1,)), Blackbox1 = ObjectState((pos = 1,)))), MyFactoredState((Redball1Matched = 1, Blackball1Matched = 1), (Redball1 = ObjectState((pos = 2,)), Blackball1 = ObjectState((pos = 3,)), Redbox1 = ObjectState((pos = 1,)), Blackbox1 = ObjectState((pos = 1,))))  …  MyFactoredState((Redball1Matched = 1, Blackball1Matched = 1), (Redball1 = ObjectState((pos = 3,)), Blackball1 = ObjectState((pos = 2,)), Redbox1 = ObjectState((pos = 4,)), Blackbox1 = ObjectState((pos = 4,)))), MyFactoredState((Redball1Matched = 1, Blackball1Matched = 1), (Redball1 = ObjectState((pos = 4,)), Blackball1 = ObjectState((pos = 2,)), Redbox1 = ObjectState((pos = 4,)), Blackbox1 = ObjectState((pos = 4,)))), MyFactoredState((Redball1Matched = 1, Blackball1Matched = 1), (Redball1 = ObjectState((pos = 1,)), Blackball1 = ObjectState((pos = 3,)), Redbox1 = ObjectState((pos = 4,)), Blackbox1 = ObjectState((pos = 4,)))), MyFactoredState((Redball1Matched = 1, Blackball1Matched = 1), (Redball1 = ObjectState((pos = 2,)), Blackball1 = ObjectState((pos = 3,)), Redbox1 = ObjectState((pos = 4,)), Blackbox1 = ObjectState((pos = 4,)))), MyFactoredState((Redball1Matched = 1, Blackball1Matched = 1), (Redball1 = ObjectState((pos = 3,)), Blackball1 = ObjectState((pos = 3,)), Redbox1 = ObjectState((pos = 4,)), Blackbox1 = ObjectState((pos = 4,)))), MyFactoredState((Redball1Matched = 1, Blackball1Matched = 1), (Redball1 = ObjectState((pos = 4,)), Blackball1 = ObjectState((pos = 3,)), Redbox1 = ObjectState((pos = 4,)), Blackbox1 = ObjectState((pos = 4,)))), MyFactoredState((Redball1Matched = 1, Blackball1Matched = 1), (Redball1 = ObjectState((pos = 1,)), Blackball1 = ObjectState((pos = 4,)), Redbox1 = ObjectState((pos = 4,)), Blackbox1 = ObjectState((pos = 4,)))), MyFactoredState((Redball1Matched = 1, Blackball1Matched = 1), (Redball1 = ObjectState((pos = 2,)), Blackball1 = ObjectState((pos = 4,)), Redbox1 = ObjectState((pos = 4,)), Blackbox1 = ObjectState((pos = 4,)))), MyFactoredState((Redball1Matched = 1, Blackball1Matched = 1), (Redball1 = ObjectState((pos = 3,)), Blackball1 = ObjectState((pos = 4,)), Redbox1 = ObjectState((pos = 4,)), Blackbox1 = ObjectState((pos = 4,)))), MyFactoredState((Redball1Matched = 1, Blackball1Matched = 1), (Redball1 = ObjectState((pos = 4,)), Blackball1 = ObjectState((pos = 4,)), Redbox1 = ObjectState((pos = 4,)), Blackbox1 = ObjectState((pos = 4,))))], 0.5, MyFactoredState[MyFactoredState((Redball1Matched = 0, Blackball1Matched = 0), (Redball1 = ObjectState((pos = 1,)), Blackball1 = ObjectState((pos = 1,)), Redbox1 = ObjectState((pos = 1,)), Blackbox1 = ObjectState((pos = 1,)))), MyFactoredState((Redball1Matched = 0, Blackball1Matched = 0), (Redball1 = ObjectState((pos = 2,)), Blackball1 = ObjectState((pos = 1,)), Redbox1 = ObjectState((pos = 1,)), Blackbox1 = ObjectState((pos = 1,)))), MyFactoredState((Redball1Matched = 0, Blackball1Matched = 0), (Redball1 = ObjectState((pos = 3,)), Blackball1 = ObjectState((pos = 1,)), Redbox1 = ObjectState((pos = 1,)), Blackbox1 = ObjectState((pos = 1,)))), MyFactoredState((Redball1Matched = 0, Blackball1Matched = 0), (Redball1 = ObjectState((pos = 4,)), Blackball1 = ObjectState((pos = 1,)), Redbox1 = ObjectState((pos = 1,)), Blackbox1 = ObjectState((pos = 1,)))), MyFactoredState((Redball1Matched = 0, Blackball1Matched = 0), (Redball1 = ObjectState((pos = 1,)), Blackball1 = ObjectState((pos = 2,)), Redbox1 = ObjectState((pos = 1,)), Blackbox1 = ObjectState((pos = 1,)))), MyFactoredState((Redball1Matched = 0, Blackball1Matched = 0), (Redball1 = ObjectState((pos = 2,)), Blackball1 = ObjectState((pos = 2,)), Redbox1 = ObjectState((pos = 1,)), Blackbox1 = ObjectState((pos = 1,)))), MyFactoredState((Redball1Matched = 0, Blackball1Matched = 0), (Redball1 = ObjectState((pos = 3,)), Blackball1 = ObjectState((pos = 2,)), Redbox1 = ObjectState((pos = 1,)), Blackbox1 = ObjectState((pos = 1,)))), MyFactoredState((Redball1Matched = 0, Blackball1Matched = 0), (Redball1 = ObjectState((pos = 4,)), Blackball1 = ObjectState((pos = 2,)), Redbox1 = ObjectState((pos = 1,)), Blackbox1 = ObjectState((pos = 1,)))), MyFactoredState((Redball1Matched = 0, Blackball1Matched = 0), (Redball1 = ObjectState((pos = 1,)), Blackball1 = ObjectState((pos = 3,)), Redbox1 = ObjectState((pos = 1,)), Blackbox1 = ObjectState((pos = 1,)))), MyFactoredState((Redball1Matched = 0, Blackball1Matched = 0), (Redball1 = ObjectState((pos = 2,)), Blackball1 = ObjectState((pos = 3,)), Redbox1 = ObjectState((pos = 1,)), Blackbox1 = ObjectState((pos = 1,))))  …  MyFactoredState((Redball1Matched = 1, Blackball1Matched = 1), (Redball1 = ObjectState((pos = 4,)), Blackball1 = ObjectState((pos = 2,)), Redbox1 = ObjectState((pos = 4,)), Blackbox1 = ObjectState((pos = 4,)))), MyFactoredState((Redball1Matched = 1, Blackball1Matched = 1), (Redball1 = ObjectState((pos = 1,)), Blackball1 = ObjectState((pos = 3,)), Redbox1 = ObjectState((pos = 4,)), Blackbox1 = ObjectState((pos = 4,)))), MyFactoredState((Redball1Matched = 1, Blackball1Matched = 1), (Redball1 = ObjectState((pos = 2,)), Blackball1 = ObjectState((pos = 3,)), Redbox1 = ObjectState((pos = 4,)), Blackbox1 = ObjectState((pos = 4,)))), MyFactoredState((Redball1Matched = 1, Blackball1Matched = 1), (Redball1 = ObjectState((pos = 3,)), Blackball1 = ObjectState((pos = 3,)), Redbox1 = ObjectState((pos = 4,)), Blackbox1 = ObjectState((pos = 4,)))), MyFactoredState((Redball1Matched = 1, Blackball1Matched = 1), (Redball1 = ObjectState((pos = 4,)), Blackball1 = ObjectState((pos = 3,)), Redbox1 = ObjectState((pos = 4,)), Blackbox1 = ObjectState((pos = 4,)))), MyFactoredState((Redball1Matched = 1, Blackball1Matched = 1), (Redball1 = ObjectState((pos = 1,)), Blackball1 = ObjectState((pos = 4,)), Redbox1 = ObjectState((pos = 4,)), Blackbox1 = ObjectState((pos = 4,)))), MyFactoredState((Redball1Matched = 1, Blackball1Matched = 1), (Redball1 = ObjectState((pos = 2,)), Blackball1 = ObjectState((pos = 4,)), Redbox1 = ObjectState((pos = 4,)), Blackbox1 = ObjectState((pos = 4,)))), MyFactoredState((Redball1Matched = 1, Blackball1Matched = 1), (Redball1 = ObjectState((pos = 3,)), Blackball1 = ObjectState((pos = 4,)), Redbox1 = ObjectState((pos = 4,)), Blackbox1 = ObjectState((pos = 4,)))), MyFactoredState((Redball1Matched = 1, Blackball1Matched = 1), (Redball1 = ObjectState((pos = 4,)), Blackball1 = ObjectState((pos = 4,)), Redbox1 = ObjectState((pos = 4,)), Blackbox1 = ObjectState((pos = 4,)))), MyFactoredState((Redball1Matched = -1, Blackball1Matched = -1), (Redball1 = ObjectState((pos = -1,)), Blackball1 = ObjectState((pos = -1,)), Redbox1 = ObjectState((pos = -1,)), Blackbox1 = ObjectState((pos = -1,))))], MatchAction[MatchAction(:Redball1, :Redbox1), MatchAction(:Blackball1, :Redbox1), MatchAction(:Redball1, :Blackbox1), MatchAction(:Blackball1, :Blackbox1)])"
      ]
     },
     "metadata": {},
     "output_type": "display_data"
    }
   ],
   "source": [
    "\n",
    "\n",
    "struct GameMDP <: MDP{MyFactoredState, MatchAction}\n",
    "    # reward_states_values::Dict{MyFactoredState, Float64} # Dictionary mapping reward states to their values\n",
    "    goal_states::Vector{MyFactoredState} \n",
    "    # tprob::Float64 # probability of transitioning to the desired state\n",
    "    discount_factor::Float64 # discount factor\n",
    "    state_array::Vector{MyFactoredState} # vector to store all states in the MDP\n",
    "    actions::Vector{MatchAction} # vector to store all actions in the MDP \n",
    "end \n",
    "\n",
    "\n",
    "function GameMDP()\n",
    "    # Precompute the state array\n",
    "    state_array = POMDPs.states(MyFactoredState, object_ranges, state_attr_ranges) \n",
    "    println(\"state array made \") \n",
    "    goal_states = find_goal_states(state_array)  \n",
    "    println(\"goal states found\")\n",
    "    actions = temp_actions() \n",
    "    # Return a new GridWorldMDP with the precomputed state array\n",
    "    return GameMDP(goal_states, 0.5 ,state_array, actions)\n",
    "end\n",
    "\n",
    "mdp = GameMDP()"
   ]
  },
  {
   "cell_type": "code",
   "execution_count": 247,
   "metadata": {},
   "outputs": [],
   "source": [
    "\n",
    "POMDPs.actions(mdp::GameMDP) = temp_actions() \n",
    "POMDPs.states(mdp::GameMDP) = mdp.state_array"
   ]
  },
  {
   "cell_type": "code",
   "execution_count": 248,
   "metadata": {},
   "outputs": [],
   "source": [
    "POMDPs.isterminal(mdp::GameMDP , s::MyFactoredState) = (s.attributes.Redball1Matched == 1 && s.attributes.Blackball1Matched == 1 )\n",
    "\n",
    "# POMDPs.isterminal(mdp::GameMDP, s::MyFactoredState) =  ( s == MyFactoredState(\n",
    "#     NamedTuple((Redball1Matched = -1, Blackball1Matched = -1)),\n",
    "#     NamedTuple((Redball1 = ObjectState((pos = -1,)), Blackball1 = ObjectState((pos = -1,)), Redbox1 = ObjectState((pos = -1, )), Blackbox1 = ObjectState((pos = -1,))))\n",
    "# )\n",
    "# )\n",
    "\n",
    "POMDPs.initialstate(mdp::GameMDP) = DeterministicState(\n",
    "    MyFactoredState(\n",
    "        NamedTuple((Redball1Matched = 0, Blackball1Matched = 0)),\n",
    "        NamedTuple((Redball1 = ObjectState((pos = 1,)), Blackball1 = ObjectState((pos = 2,)), Redbox1 = ObjectState((pos = 3, )), Blackbox1 = ObjectState((pos = 4,))))\n",
    "    )\n",
    "    )\n"
   ]
  },
  {
   "cell_type": "code",
   "execution_count": 249,
   "metadata": {},
   "outputs": [],
   "source": [
    "\n",
    "# Function that returns the index of a state in the state space array by matching\n",
    "function POMDPs.stateindex(mdp::GameMDP, s::MyFactoredState)\n",
    "    # Get the array of all states in the MDP\n",
    "    state_array = mdp.state_array\n",
    "\n",
    "    # Loop through the state array to find the matching state\n",
    "    for (index, state) in enumerate(state_array)\n",
    "        if state == s\n",
    "            return index # Return the index when a match is found\n",
    "        end\n",
    "    end\n",
    "\n",
    "    # If no matching state is found, return an error or a specific value\n",
    "    error(\"State not found in the state space\")\n",
    "end\n",
    "\n",
    "\n",
    "function POMDPs.actionindex(mdp::GameMDP, a::MatchAction)\n",
    "    @assert in(a, mdp.actions ) \"Invalid action\"\n",
    "    return findfirst(x -> x == a, mdp.actions  )\n",
    "end\n"
   ]
  },
  {
   "cell_type": "code",
   "execution_count": 252,
   "metadata": {},
   "outputs": [],
   "source": [
    "function POMDPs.transition(mdp::GameMDP, s::MyFactoredState, a::MatchAction)\n",
    "    @assert in(a, mdp.actions ) \"Invalid action\"\n",
    "\n",
    "    # define a temp state \n",
    "    temp_state =  MyFactoredState(\n",
    "        NamedTuple((Redball1Matched = -1, Blackball1Matched = -1)),\n",
    "        NamedTuple((Redball1 = ObjectState((pos = -1,)), Blackball1 = ObjectState((pos = -1,)), Redbox1 = ObjectState((pos = -1, )), Blackbox1 = ObjectState((pos = -1,))))\n",
    "    )\n",
    "\n",
    "\n",
    "    if (s in mdp.goal_states)\n",
    "        return SparseCat([temp_state], [1.0])\n",
    "    end \n",
    "\n",
    "    if (s == temp_state)\n",
    "        return SparseCat([temp_state], [1.0])\n",
    "    end\n",
    "\n",
    "\n",
    "    if (a.attr1 == :Redball1 && a.attr2 == :Redbox1)\n",
    "        # check preconditions\n",
    "        if (s.attributes.Redball1Matched == 0 && s.objects.Redball1.attributes.pos != s.objects.Redbox1.attributes.pos)\n",
    "            # create a new state\n",
    "            new_state = deepcopy(s)\n",
    "            new_attributes = merge(new_state.attributes, (Redball1Matched = 1,))\n",
    "\n",
    "            new_redball1 = ObjectState(merge(\n",
    "                new_state.objects.Redball1.attributes,\n",
    "                (pos = s.objects.Redbox1.attributes.pos,)\n",
    "            ))\n",
    "\n",
    "            new_objects = (\n",
    "                Redball1 = new_redball1,\n",
    "                Blackball1 = new_state.objects.Blackball1,\n",
    "                Redbox1 = new_state.objects.Redbox1,\n",
    "                Blackbox1 = new_state.objects.Blackbox1\n",
    "            )\n",
    "\n",
    "            # Combine the updated named tuples to form the new state\n",
    "            new_state = MyFactoredState(new_attributes, new_objects )\n",
    "\n",
    "            return SparseCat([new_state], [1.0])\n",
    "\n",
    "        else\n",
    "            return SparseCat([temp_state], [1.0])\n",
    "        end\n",
    "    \n",
    "\n",
    "    \n",
    "    elseif (a.attr1 == :Blackball1 && a.attr2 == :Redbox1)\n",
    "        # check preconditions\n",
    "        if (s.attributes.Blackball1Matched == 0 && s.objects.Blackball1.attributes.pos != s.objects.Redbox1.attributes.pos)\n",
    "            # create a new state\n",
    "            new_state = deepcopy(s)\n",
    "            \n",
    "            new_blackball1 = ObjectState(merge(\n",
    "                new_state.objects.Blackball1.attributes,\n",
    "                (pos = s.objects.Redbox1.attributes.pos,)\n",
    "            ))\n",
    "\n",
    "            new_objects = (\n",
    "                Redball1 = new_state.objects.Redball1,\n",
    "                Blackball1 = new_blackball1,\n",
    "                Redbox1 = new_state.objects.Redbox1,\n",
    "                Blackbox1 = new_state.objects.Blackbox1\n",
    "            )\n",
    "\n",
    "            # Combine the updated named tuples to form the new state\n",
    "            new_state = MyFactoredState(new_state.attributes, new_objects)\n",
    "\n",
    "            return SparseCat([new_state], [1.0])\n",
    "        \n",
    "\n",
    "        else\n",
    "            return SparseCat([temp_state], [1.0])\n",
    "        end\n",
    "    \n",
    "\n",
    "    \n",
    "    elseif (a.attr1 == :Redball1 && a.attr2 == :Blackbox1)\n",
    "        # check preconditions\n",
    "        if (s.attributes.Redball1Matched == 0 && s.objects.Redball1.attributes.pos != s.objects.Blackbox1.attributes.pos)\n",
    "            # create a new state\n",
    "            new_state = deepcopy(s)\n",
    "            \n",
    "            new_redball1 = ObjectState(merge(\n",
    "                new_state.objects.Redball1.attributes,\n",
    "                (pos = s.objects.Blackbox1.attributes.pos,)\n",
    "            ))\n",
    "\n",
    "            new_objects = (\n",
    "                Redball1 = new_redball1,\n",
    "                Blackball1 = new_state.objects.Blackball1,\n",
    "                Redbox1 = new_state.objects.Redbox1,\n",
    "                Blackbox1 = new_state.objects.Blackbox1\n",
    "            )\n",
    "\n",
    "            # Combine the updated named tuples to form the new state\n",
    "            new_state = MyFactoredState(new_state.attributes, new_objects)\n",
    "\n",
    "            return SparseCat([new_state], [1.0])\n",
    "        \n",
    "        else\n",
    "            return SparseCat([temp_state], [1.0])\n",
    "        end\n",
    "    \n",
    "\n",
    "   \n",
    "\n",
    "    elseif (a.attr1 == :Blackball1 && a.attr2 == :Blackbox1)\n",
    "        # check preconditions\n",
    "        if (s.attributes.Blackball1Matched == 0 && s.objects.Blackball1.attributes.pos != s.objects.Blackbox1.attributes.pos)\n",
    "            # create a new state\n",
    "            new_state = deepcopy(s)\n",
    "            \n",
    "            new_attributes = merge(new_state.attributes, (Blackball1Matched = 1,))\n",
    "\n",
    "            new_blackball1 = ObjectState(merge(\n",
    "                new_state.objects.Blackball1.attributes,\n",
    "                (pos = s.objects.Blackbox1.attributes.pos,)\n",
    "            ))\n",
    "\n",
    "            new_objects = (\n",
    "                Redball1 = new_state.objects.Redball1,\n",
    "                Blackball1 = new_blackball1,\n",
    "                Redbox1 = new_state.objects.Redbox1,\n",
    "                Blackbox1 = new_state.objects.Blackbox1\n",
    "            )\n",
    "           \n",
    "\n",
    "            # Combine the updated named tuples to form the new state\n",
    "            new_state = MyFactoredState(new_attributes, new_objects)\n",
    "            \n",
    "            return SparseCat([new_state], [1.0])\n",
    "        \n",
    "\n",
    "        else\n",
    "            return SparseCat([temp_state], [1.0])\n",
    "        end\n",
    "    else \n",
    "        error(\"Invalid state action pair\")\n",
    "    end\n",
    "\n",
    "end\n"
   ]
  },
  {
   "cell_type": "code",
   "execution_count": 251,
   "metadata": {},
   "outputs": [
    {
     "name": "stdout",
     "output_type": "stream",
     "text": [
      "MyFactoredState[MyFactoredState((Redball1Matched = 1, Blackball1Matched = 1), (Redball1 = ObjectState((pos = 1,)), Blackball1 = ObjectState((pos = 1,)), Redbox1 = ObjectState((pos = 1,)), Blackbox1 = ObjectState((pos = 1,)))), MyFactoredState((Redball1Matched = 1, Blackball1Matched = 1), (Redball1 = ObjectState((pos = 2,)), Blackball1 = ObjectState((pos = 1,)), Redbox1 = ObjectState((pos = 1,)), Blackbox1 = ObjectState((pos = 1,)))), MyFactoredState((Redball1Matched = 1, Blackball1Matched = 1), (Redball1 = ObjectState((pos = 3,)), Blackball1 = ObjectState((pos = 1,)), Redbox1 = ObjectState((pos = 1,)), Blackbox1 = ObjectState((pos = 1,)))), MyFactoredState((Redball1Matched = 1, Blackball1Matched = 1), (Redball1 = ObjectState((pos = 4,)), Blackball1 = ObjectState((pos = 1,)), Redbox1 = ObjectState((pos = 1,)), Blackbox1 = ObjectState((pos = 1,)))), MyFactoredState((Redball1Matched = 1, Blackball1Matched = 1), (Redball1 = ObjectState((pos = 1,)), Blackball1 = ObjectState((pos = 2,)), Redbox1 = ObjectState((pos = 1,)), Blackbox1 = ObjectState((pos = 1,)))), MyFactoredState((Redball1Matched = 1, Blackball1Matched = 1), (Redball1 = ObjectState((pos = 2,)), Blackball1 = ObjectState((pos = 2,)), Redbox1 = ObjectState((pos = 1,)), Blackbox1 = ObjectState((pos = 1,)))), MyFactoredState((Redball1Matched = 1, Blackball1Matched = 1), (Redball1 = ObjectState((pos = 3,)), Blackball1 = ObjectState((pos = 2,)), Redbox1 = ObjectState((pos = 1,)), Blackbox1 = ObjectState((pos = 1,)))), MyFactoredState((Redball1Matched = 1, Blackball1Matched = 1), (Redball1 = ObjectState((pos = 4,)), Blackball1 = ObjectState((pos = 2,)), Redbox1 = ObjectState((pos = 1,)), Blackbox1 = ObjectState((pos = 1,)))), MyFactoredState((Redball1Matched = 1, Blackball1Matched = 1), (Redball1 = ObjectState((pos = 1,)), Blackball1 = ObjectState((pos = 3,)), Redbox1 = ObjectState((pos = 1,)), Blackbox1 = ObjectState((pos = 1,)))), MyFactoredState((Redball1Matched = 1, Blackball1Matched = 1), (Redball1 = ObjectState((pos = 2,)), Blackball1 = ObjectState((pos = 3,)), Redbox1 = ObjectState((pos = 1,)), Blackbox1 = ObjectState((pos = 1,)))), MyFactoredState((Redball1Matched = 1, Blackball1Matched = 1), (Redball1 = ObjectState((pos = 3,)), Blackball1 = ObjectState((pos = 3,)), Redbox1 = ObjectState((pos = 1,)), Blackbox1 = ObjectState((pos = 1,)))), MyFactoredState((Redball1Matched = 1, Blackball1Matched = 1), (Redball1 = ObjectState((pos = 4,)), Blackball1 = ObjectState((pos = 3,)), Redbox1 = ObjectState((pos = 1,)), Blackbox1 = ObjectState((pos = 1,)))), MyFactoredState((Redball1Matched = 1, Blackball1Matched = 1), (Redball1 = ObjectState((pos = 1,)), Blackball1 = ObjectState((pos = 4,)), Redbox1 = ObjectState((pos = 1,)), Blackbox1 = ObjectState((pos = 1,)))), MyFactoredState((Redball1Matched = 1, Blackball1Matched = 1), (Redball1 = ObjectState((pos = 2,)), Blackball1 = ObjectState((pos = 4,)), Redbox1 = ObjectState((pos = 1,)), Blackbox1 = ObjectState((pos = 1,)))), MyFactoredState((Redball1Matched = 1, Blackball1Matched = 1), (Redball1 = ObjectState((pos = 3,)), Blackball1 = ObjectState((pos = 4,)), Redbox1 = ObjectState((pos = 1,)), Blackbox1 = ObjectState((pos = 1,)))), MyFactoredState((Redball1Matched = 1, Blackball1Matched = 1), (Redball1 = ObjectState((pos = 4,)), Blackball1 = ObjectState((pos = 4,)), Redbox1 = ObjectState((pos = 1,)), Blackbox1 = ObjectState((pos = 1,)))), MyFactoredState((Redball1Matched = 1, Blackball1Matched = 1), (Redball1 = ObjectState((pos = 1,)), Blackball1 = ObjectState((pos = 1,)), Redbox1 = ObjectState((pos = 2,)), Blackbox1 = ObjectState((pos = 1,)))), MyFactoredState((Redball1Matched = 1, Blackball1Matched = 1), (Redball1 = ObjectState((pos = 2,)), Blackball1 = ObjectState((pos = 1,)), Redbox1 = ObjectState((pos = 2,)), Blackbox1 = ObjectState((pos = 1,)))), MyFactoredState((Redball1Matched = 1, Blackball1Matched = 1), (Redball1 = ObjectState((pos = 3,)), Blackball1 = ObjectState((pos = 1,)), Redbox1 = ObjectState((pos = 2,)), Blackbox1 = ObjectState((pos = 1,)))), MyFactoredState((Redball1Matched = 1, Blackball1Matched = 1), (Redball1 = ObjectState((pos = 4,)), Blackball1 = ObjectState((pos = 1,)), Redbox1 = ObjectState((pos = 2,)), Blackbox1 = ObjectState((pos = 1,)))), MyFactoredState((Redball1Matched = 1, Blackball1Matched = 1), (Redball1 = ObjectState((pos = 1,)), Blackball1 = ObjectState((pos = 2,)), Redbox1 = ObjectState((pos = 2,)), Blackbox1 = ObjectState((pos = 1,)))), MyFactoredState((Redball1Matched = 1, Blackball1Matched = 1), (Redball1 = ObjectState((pos = 2,)), Blackball1 = ObjectState((pos = 2,)), Redbox1 = ObjectState((pos = 2,)), Blackbox1 = ObjectState((pos = 1,)))), MyFactoredState((Redball1Matched = 1, Blackball1Matched = 1), (Redball1 = ObjectState((pos = 3,)), Blackball1 = ObjectState((pos = 2,)), Redbox1 = ObjectState((pos = 2,)), Blackbox1 = ObjectState((pos = 1,)))), MyFactoredState((Redball1Matched = 1, Blackball1Matched = 1), (Redball1 = ObjectState((pos = 4,)), Blackball1 = ObjectState((pos = 2,)), Redbox1 = ObjectState((pos = 2,)), Blackbox1 = ObjectState((pos = 1,)))), MyFactoredState((Redball1Matched = 1, Blackball1Matched = 1), (Redball1 = ObjectState((pos = 1,)), Blackball1 = ObjectState((pos = 3,)), Redbox1 = ObjectState((pos = 2,)), Blackbox1 = ObjectState((pos = 1,)))), MyFactoredState((Redball1Matched = 1, Blackball1Matched = 1), (Redball1 = ObjectState((pos = 2,)), Blackball1 = ObjectState((pos = 3,)), Redbox1 = ObjectState((pos = 2,)), Blackbox1 = ObjectState((pos = 1,)))), MyFactoredState((Redball1Matched = 1, Blackball1Matched = 1), (Redball1 = ObjectState((pos = 3,)), Blackball1 = ObjectState((pos = 3,)), Redbox1 = ObjectState((pos = 2,)), Blackbox1 = ObjectState((pos = 1,)))), MyFactoredState((Redball1Matched = 1, Blackball1Matched = 1), (Redball1 = ObjectState((pos = 4,)), Blackball1 = ObjectState((pos = 3,)), Redbox1 = ObjectState((pos = 2,)), Blackbox1 = ObjectState((pos = 1,)))), MyFactoredState((Redball1Matched = 1, Blackball1Matched = 1), (Redball1 = ObjectState((pos = 1,)), Blackball1 = ObjectState((pos = 4,)), Redbox1 = ObjectState((pos = 2,)), Blackbox1 = ObjectState((pos = 1,)))), MyFactoredState((Redball1Matched = 1, Blackball1Matched = 1), (Redball1 = ObjectState((pos = 2,)), Blackball1 = ObjectState((pos = 4,)), Redbox1 = ObjectState((pos = 2,)), Blackbox1 = ObjectState((pos = 1,)))), MyFactoredState((Redball1Matched = 1, Blackball1Matched = 1), (Redball1 = ObjectState((pos = 3,)), Blackball1 = ObjectState((pos = 4,)), Redbox1 = ObjectState((pos = 2,)), Blackbox1 = ObjectState((pos = 1,)))), MyFactoredState((Redball1Matched = 1, Blackball1Matched = 1), (Redball1 = ObjectState((pos = 4,)), Blackball1 = ObjectState((pos = 4,)), Redbox1 = ObjectState((pos = 2,)), Blackbox1 = ObjectState((pos = 1,)))), MyFactoredState((Redball1Matched = 1, Blackball1Matched = 1), (Redball1 = ObjectState((pos = 1,)), Blackball1 = ObjectState((pos = 1,)), Redbox1 = ObjectState((pos = 3,)), Blackbox1 = ObjectState((pos = 1,)))), MyFactoredState((Redball1Matched = 1, Blackball1Matched = 1), (Redball1 = ObjectState((pos = 2,)), Blackball1 = ObjectState((pos = 1,)), Redbox1 = ObjectState((pos = 3,)), Blackbox1 = ObjectState((pos = 1,)))), MyFactoredState((Redball1Matched = 1, Blackball1Matched = 1), (Redball1 = ObjectState((pos = 3,)), Blackball1 = ObjectState((pos = 1,)), Redbox1 = ObjectState((pos = 3,)), Blackbox1 = ObjectState((pos = 1,)))), MyFactoredState((Redball1Matched = 1, Blackball1Matched = 1), (Redball1 = ObjectState((pos = 4,)), Blackball1 = ObjectState((pos = 1,)), Redbox1 = ObjectState((pos = 3,)), Blackbox1 = ObjectState((pos = 1,)))), MyFactoredState((Redball1Matched = 1, Blackball1Matched = 1), (Redball1 = ObjectState((pos = 1,)), Blackball1 = ObjectState((pos = 2,)), Redbox1 = ObjectState((pos = 3,)), Blackbox1 = ObjectState((pos = 1,)))), MyFactoredState((Redball1Matched = 1, Blackball1Matched = 1), (Redball1 = ObjectState((pos = 2,)), Blackball1 = ObjectState((pos = 2,)), Redbox1 = ObjectState((pos = 3,)), Blackbox1 = ObjectState((pos = 1,)))), MyFactoredState((Redball1Matched = 1, Blackball1Matched = 1), (Redball1 = ObjectState((pos = 3,)), Blackball1 = ObjectState((pos = 2,)), Redbox1 = ObjectState((pos = 3,)), Blackbox1 = ObjectState((pos = 1,)))), MyFactoredState((Redball1Matched = 1, Blackball1Matched = 1), (Redball1 = ObjectState((pos = 4,)), Blackball1 = ObjectState((pos = 2,)), Redbox1 = ObjectState((pos = 3,)), Blackbox1 = ObjectState((pos = 1,)))), MyFactoredState((Redball1Matched = 1, Blackball1Matched = 1), (Redball1 = ObjectState((pos = 1,)), Blackball1 = ObjectState((pos = 3,)), Redbox1 = ObjectState((pos = 3,)), Blackbox1 = ObjectState((pos = 1,)))), MyFactoredState((Redball1Matched = 1, Blackball1Matched = 1), (Redball1 = ObjectState((pos = 2,)), Blackball1 = ObjectState((pos = 3,)), Redbox1 = ObjectState((pos = 3,)), Blackbox1 = ObjectState((pos = 1,)))), MyFactoredState((Redball1Matched = 1, Blackball1Matched = 1), (Redball1 = ObjectState((pos = 3,)), Blackball1 = ObjectState((pos = 3,)), Redbox1 = ObjectState((pos = 3,)), Blackbox1 = ObjectState((pos = 1,)))), MyFactoredState((Redball1Matched = 1, Blackball1Matched = 1), (Redball1 = ObjectState((pos = 4,)), Blackball1 = ObjectState((pos = 3,)), Redbox1 = ObjectState((pos = 3,)), Blackbox1 = ObjectState((pos = 1,)))), MyFactoredState((Redball1Matched = 1, Blackball1Matched = 1), (Redball1 = ObjectState((pos = 1,)), Blackball1 = ObjectState((pos = 4,)), Redbox1 = ObjectState((pos = 3,)), Blackbox1 = ObjectState((pos = 1,)))), MyFactoredState((Redball1Matched = 1, Blackball1Matched = 1), (Redball1 = ObjectState((pos = 2,)), Blackball1 = ObjectState((pos = 4,)), Redbox1 = ObjectState((pos = 3,)), Blackbox1 = ObjectState((pos = 1,)))), MyFactoredState((Redball1Matched = 1, Blackball1Matched = 1), (Redball1 = ObjectState((pos = 3,)), Blackball1 = ObjectState((pos = 4,)), Redbox1 = ObjectState((pos = 3,)), Blackbox1 = ObjectState((pos = 1,)))), MyFactoredState((Redball1Matched = 1, Blackball1Matched = 1), (Redball1 = ObjectState((pos = 4,)), Blackball1 = ObjectState((pos = 4,)), Redbox1 = ObjectState((pos = 3,)), Blackbox1 = ObjectState((pos = 1,)))), MyFactoredState((Redball1Matched = 1, Blackball1Matched = 1), (Redball1 = ObjectState((pos = 1,)), Blackball1 = ObjectState((pos = 1,)), Redbox1 = ObjectState((pos = 4,)), Blackbox1 = ObjectState((pos = 1,)))), MyFactoredState((Redball1Matched = 1, Blackball1Matched = 1), (Redball1 = ObjectState((pos = 2,)), Blackball1 = ObjectState((pos = 1,)), Redbox1 = ObjectState((pos = 4,)), Blackbox1 = ObjectState((pos = 1,)))), MyFactoredState((Redball1Matched = 1, Blackball1Matched = 1), (Redball1 = ObjectState((pos = 3,)), Blackball1 = ObjectState((pos = 1,)), Redbox1 = ObjectState((pos = 4,)), Blackbox1 = ObjectState((pos = 1,)))), MyFactoredState((Redball1Matched = 1, Blackball1Matched = 1), (Redball1 = ObjectState((pos = 4,)), Blackball1 = ObjectState((pos = 1,)), Redbox1 = ObjectState((pos = 4,)), Blackbox1 = ObjectState((pos = 1,)))), MyFactoredState((Redball1Matched = 1, Blackball1Matched = 1), (Redball1 = ObjectState((pos = 1,)), Blackball1 = ObjectState((pos = 2,)), Redbox1 = ObjectState((pos = 4,)), Blackbox1 = ObjectState((pos = 1,)))), MyFactoredState((Redball1Matched = 1, Blackball1Matched = 1), (Redball1 = ObjectState((pos = 2,)), Blackball1 = ObjectState((pos = 2,)), Redbox1 = ObjectState((pos = 4,)), Blackbox1 = ObjectState((pos = 1,)))), MyFactoredState((Redball1Matched = 1, Blackball1Matched = 1), (Redball1 = ObjectState((pos = 3,)), Blackball1 = ObjectState((pos = 2,)), Redbox1 = ObjectState((pos = 4,)), Blackbox1 = ObjectState((pos = 1,)))), MyFactoredState((Redball1Matched = 1, Blackball1Matched = 1), (Redball1 = ObjectState((pos = 4,)), Blackball1 = ObjectState((pos = 2,)), Redbox1 = ObjectState((pos = 4,)), Blackbox1 = ObjectState((pos = 1,)))), MyFactoredState((Redball1Matched = 1, Blackball1Matched = 1), (Redball1 = ObjectState((pos = 1,)), Blackball1 = ObjectState((pos = 3,)), Redbox1 = ObjectState((pos = 4,)), Blackbox1 = ObjectState((pos = 1,)))), MyFactoredState((Redball1Matched = 1, Blackball1Matched = 1), (Redball1 = ObjectState((pos = 2,)), Blackball1 = ObjectState((pos = 3,)), Redbox1 = ObjectState((pos = 4,)), Blackbox1 = ObjectState((pos = 1,)))), MyFactoredState((Redball1Matched = 1, Blackball1Matched = 1), (Redball1 = ObjectState((pos = 3,)), Blackball1 = ObjectState((pos = 3,)), Redbox1 = ObjectState((pos = 4,)), Blackbox1 = ObjectState((pos = 1,)))), MyFactoredState((Redball1Matched = 1, Blackball1Matched = 1), (Redball1 = ObjectState((pos = 4,)), Blackball1 = ObjectState((pos = 3,)), Redbox1 = ObjectState((pos = 4,)), Blackbox1 = ObjectState((pos = 1,)))), MyFactoredState((Redball1Matched = 1, Blackball1Matched = 1), (Redball1 = ObjectState((pos = 1,)), Blackball1 = ObjectState((pos = 4,)), Redbox1 = ObjectState((pos = 4,)), Blackbox1 = ObjectState((pos = 1,)))), MyFactoredState((Redball1Matched = 1, Blackball1Matched = 1), (Redball1 = ObjectState((pos = 2,)), Blackball1 = ObjectState((pos = 4,)), Redbox1 = ObjectState((pos = 4,)), Blackbox1 = ObjectState((pos = 1,)))), MyFactoredState((Redball1Matched = 1, Blackball1Matched = 1), (Redball1 = ObjectState((pos = 3,)), Blackball1 = ObjectState((pos = 4,)), Redbox1 = ObjectState((pos = 4,)), Blackbox1 = ObjectState((pos = 1,)))), MyFactoredState((Redball1Matched = 1, Blackball1Matched = 1), (Redball1 = ObjectState((pos = 4,)), Blackball1 = ObjectState((pos = 4,)), Redbox1 = ObjectState((pos = 4,)), Blackbox1 = ObjectState((pos = 1,)))), MyFactoredState((Redball1Matched = 1, Blackball1Matched = 1), (Redball1 = ObjectState((pos = 1,)), Blackball1 = ObjectState((pos = 1,)), Redbox1 = ObjectState((pos = 1,)), Blackbox1 = ObjectState((pos = 2,)))), MyFactoredState((Redball1Matched = 1, Blackball1Matched = 1), (Redball1 = ObjectState((pos = 2,)), Blackball1 = ObjectState((pos = 1,)), Redbox1 = ObjectState((pos = 1,)), Blackbox1 = ObjectState((pos = 2,)))), MyFactoredState((Redball1Matched = 1, Blackball1Matched = 1), (Redball1 = ObjectState((pos = 3,)), Blackball1 = ObjectState((pos = 1,)), Redbox1 = ObjectState((pos = 1,)), Blackbox1 = ObjectState((pos = 2,)))), MyFactoredState((Redball1Matched = 1, Blackball1Matched = 1), (Redball1 = ObjectState((pos = 4,)), Blackball1 = ObjectState((pos = 1,)), Redbox1 = ObjectState((pos = 1,)), Blackbox1 = ObjectState((pos = 2,)))), MyFactoredState((Redball1Matched = 1, Blackball1Matched = 1), (Redball1 = ObjectState((pos = 1,)), Blackball1 = ObjectState((pos = 2,)), Redbox1 = ObjectState((pos = 1,)), Blackbox1 = ObjectState((pos = 2,)))), MyFactoredState((Redball1Matched = 1, Blackball1Matched = 1), (Redball1 = ObjectState((pos = 2,)), Blackball1 = ObjectState((pos = 2,)), Redbox1 = ObjectState((pos = 1,)), Blackbox1 = ObjectState((pos = 2,)))), MyFactoredState((Redball1Matched = 1, Blackball1Matched = 1), (Redball1 = ObjectState((pos = 3,)), Blackball1 = ObjectState((pos = 2,)), Redbox1 = ObjectState((pos = 1,)), Blackbox1 = ObjectState((pos = 2,)))), MyFactoredState((Redball1Matched = 1, Blackball1Matched = 1), (Redball1 = ObjectState((pos = 4,)), Blackball1 = ObjectState((pos = 2,)), Redbox1 = ObjectState((pos = 1,)), Blackbox1 = ObjectState((pos = 2,)))), MyFactoredState((Redball1Matched = 1, Blackball1Matched = 1), (Redball1 = ObjectState((pos = 1,)), Blackball1 = ObjectState((pos = 3,)), Redbox1 = ObjectState((pos = 1,)), Blackbox1 = ObjectState((pos = 2,)))), MyFactoredState((Redball1Matched = 1, Blackball1Matched = 1), (Redball1 = ObjectState((pos = 2,)), Blackball1 = ObjectState((pos = 3,)), Redbox1 = ObjectState((pos = 1,)), Blackbox1 = ObjectState((pos = 2,)))), MyFactoredState((Redball1Matched = 1, Blackball1Matched = 1), (Redball1 = ObjectState((pos = 3,)), Blackball1 = ObjectState((pos = 3,)), Redbox1 = ObjectState((pos = 1,)), Blackbox1 = ObjectState((pos = 2,)))), MyFactoredState((Redball1Matched = 1, Blackball1Matched = 1), (Redball1 = ObjectState((pos = 4,)), Blackball1 = ObjectState((pos = 3,)), Redbox1 = ObjectState((pos = 1,)), Blackbox1 = ObjectState((pos = 2,)))), MyFactoredState((Redball1Matched = 1, Blackball1Matched = 1), (Redball1 = ObjectState((pos = 1,)), Blackball1 = ObjectState((pos = 4,)), Redbox1 = ObjectState((pos = 1,)), Blackbox1 = ObjectState((pos = 2,)))), MyFactoredState((Redball1Matched = 1, Blackball1Matched = 1), (Redball1 = ObjectState((pos = 2,)), Blackball1 = ObjectState((pos = 4,)), Redbox1 = ObjectState((pos = 1,)), Blackbox1 = ObjectState((pos = 2,)))), MyFactoredState((Redball1Matched = 1, Blackball1Matched = 1), (Redball1 = ObjectState((pos = 3,)), Blackball1 = ObjectState((pos = 4,)), Redbox1 = ObjectState((pos = 1,)), Blackbox1 = ObjectState((pos = 2,)))), MyFactoredState((Redball1Matched = 1, Blackball1Matched = 1), (Redball1 = ObjectState((pos = 4,)), Blackball1 = ObjectState((pos = 4,)), Redbox1 = ObjectState((pos = 1,)), Blackbox1 = ObjectState((pos = 2,)))), MyFactoredState((Redball1Matched = 1, Blackball1Matched = 1), (Redball1 = ObjectState((pos = 1,)), Blackball1 = ObjectState((pos = 1,)), Redbox1 = ObjectState((pos = 2,)), Blackbox1 = ObjectState((pos = 2,)))), MyFactoredState((Redball1Matched = 1, Blackball1Matched = 1), (Redball1 = ObjectState((pos = 2,)), Blackball1 = ObjectState((pos = 1,)), Redbox1 = ObjectState((pos = 2,)), Blackbox1 = ObjectState((pos = 2,)))), MyFactoredState((Redball1Matched = 1, Blackball1Matched = 1), (Redball1 = ObjectState((pos = 3,)), Blackball1 = ObjectState((pos = 1,)), Redbox1 = ObjectState((pos = 2,)), Blackbox1 = ObjectState((pos = 2,)))), MyFactoredState((Redball1Matched = 1, Blackball1Matched = 1), (Redball1 = ObjectState((pos = 4,)), Blackball1 = ObjectState((pos = 1,)), Redbox1 = ObjectState((pos = 2,)), Blackbox1 = ObjectState((pos = 2,)))), MyFactoredState((Redball1Matched = 1, Blackball1Matched = 1), (Redball1 = ObjectState((pos = 1,)), Blackball1 = ObjectState((pos = 2,)), Redbox1 = ObjectState((pos = 2,)), Blackbox1 = ObjectState((pos = 2,)))), MyFactoredState((Redball1Matched = 1, Blackball1Matched = 1), (Redball1 = ObjectState((pos = 2,)), Blackball1 = ObjectState((pos = 2,)), Redbox1 = ObjectState((pos = 2,)), Blackbox1 = ObjectState((pos = 2,)))), MyFactoredState((Redball1Matched = 1, Blackball1Matched = 1), (Redball1 = ObjectState((pos = 3,)), Blackball1 = ObjectState((pos = 2,)), Redbox1 = ObjectState((pos = 2,)), Blackbox1 = ObjectState((pos = 2,)))), MyFactoredState((Redball1Matched = 1, Blackball1Matched = 1), (Redball1 = ObjectState((pos = 4,)), Blackball1 = ObjectState((pos = 2,)), Redbox1 = ObjectState((pos = 2,)), Blackbox1 = ObjectState((pos = 2,)))), MyFactoredState((Redball1Matched = 1, Blackball1Matched = 1), (Redball1 = ObjectState((pos = 1,)), Blackball1 = ObjectState((pos = 3,)), Redbox1 = ObjectState((pos = 2,)), Blackbox1 = ObjectState((pos = 2,)))), MyFactoredState((Redball1Matched = 1, Blackball1Matched = 1), (Redball1 = ObjectState((pos = 2,)), Blackball1 = ObjectState((pos = 3,)), Redbox1 = ObjectState((pos = 2,)), Blackbox1 = ObjectState((pos = 2,)))), MyFactoredState((Redball1Matched = 1, Blackball1Matched = 1), (Redball1 = ObjectState((pos = 3,)), Blackball1 = ObjectState((pos = 3,)), Redbox1 = ObjectState((pos = 2,)), Blackbox1 = ObjectState((pos = 2,)))), MyFactoredState((Redball1Matched = 1, Blackball1Matched = 1), (Redball1 = ObjectState((pos = 4,)), Blackball1 = ObjectState((pos = 3,)), Redbox1 = ObjectState((pos = 2,)), Blackbox1 = ObjectState((pos = 2,)))), MyFactoredState((Redball1Matched = 1, Blackball1Matched = 1), (Redball1 = ObjectState((pos = 1,)), Blackball1 = ObjectState((pos = 4,)), Redbox1 = ObjectState((pos = 2,)), Blackbox1 = ObjectState((pos = 2,)))), MyFactoredState((Redball1Matched = 1, Blackball1Matched = 1), (Redball1 = ObjectState((pos = 2,)), Blackball1 = ObjectState((pos = 4,)), Redbox1 = ObjectState((pos = 2,)), Blackbox1 = ObjectState((pos = 2,)))), MyFactoredState((Redball1Matched = 1, Blackball1Matched = 1), (Redball1 = ObjectState((pos = 3,)), Blackball1 = ObjectState((pos = 4,)), Redbox1 = ObjectState((pos = 2,)), Blackbox1 = ObjectState((pos = 2,)))), MyFactoredState((Redball1Matched = 1, Blackball1Matched = 1), (Redball1 = ObjectState((pos = 4,)), Blackball1 = ObjectState((pos = 4,)), Redbox1 = ObjectState((pos = 2,)), Blackbox1 = ObjectState((pos = 2,)))), MyFactoredState((Redball1Matched = 1, Blackball1Matched = 1), (Redball1 = ObjectState((pos = 1,)), Blackball1 = ObjectState((pos = 1,)), Redbox1 = ObjectState((pos = 3,)), Blackbox1 = ObjectState((pos = 2,)))), MyFactoredState((Redball1Matched = 1, Blackball1Matched = 1), (Redball1 = ObjectState((pos = 2,)), Blackball1 = ObjectState((pos = 1,)), Redbox1 = ObjectState((pos = 3,)), Blackbox1 = ObjectState((pos = 2,)))), MyFactoredState((Redball1Matched = 1, Blackball1Matched = 1), (Redball1 = ObjectState((pos = 3,)), Blackball1 = ObjectState((pos = 1,)), Redbox1 = ObjectState((pos = 3,)), Blackbox1 = ObjectState((pos = 2,)))), MyFactoredState((Redball1Matched = 1, Blackball1Matched = 1), (Redball1 = ObjectState((pos = 4,)), Blackball1 = ObjectState((pos = 1,)), Redbox1 = ObjectState((pos = 3,)), Blackbox1 = ObjectState((pos = 2,)))), MyFactoredState((Redball1Matched = 1, Blackball1Matched = 1), (Redball1 = ObjectState((pos = 1,)), Blackball1 = ObjectState((pos = 2,)), Redbox1 = ObjectState((pos = 3,)), Blackbox1 = ObjectState((pos = 2,)))), MyFactoredState((Redball1Matched = 1, Blackball1Matched = 1), (Redball1 = ObjectState((pos = 2,)), Blackball1 = ObjectState((pos = 2,)), Redbox1 = ObjectState((pos = 3,)), Blackbox1 = ObjectState((pos = 2,)))), MyFactoredState((Redball1Matched = 1, Blackball1Matched = 1), (Redball1 = ObjectState((pos = 3,)), Blackball1 = ObjectState((pos = 2,)), Redbox1 = ObjectState((pos = 3,)), Blackbox1 = ObjectState((pos = 2,)))), MyFactoredState((Redball1Matched = 1, Blackball1Matched = 1), (Redball1 = ObjectState((pos = 4,)), Blackball1 = ObjectState((pos = 2,)), Redbox1 = ObjectState((pos = 3,)), Blackbox1 = ObjectState((pos = 2,)))), MyFactoredState((Redball1Matched = 1, Blackball1Matched = 1), (Redball1 = ObjectState((pos = 1,)), Blackball1 = ObjectState((pos = 3,)), Redbox1 = ObjectState((pos = 3,)), Blackbox1 = ObjectState((pos = 2,)))), MyFactoredState((Redball1Matched = 1, Blackball1Matched = 1), (Redball1 = ObjectState((pos = 2,)), Blackball1 = ObjectState((pos = 3,)), Redbox1 = ObjectState((pos = 3,)), Blackbox1 = ObjectState((pos = 2,)))), MyFactoredState((Redball1Matched = 1, Blackball1Matched = 1), (Redball1 = ObjectState((pos = 3,)), Blackball1 = ObjectState((pos = 3,)), Redbox1 = ObjectState((pos = 3,)), Blackbox1 = ObjectState((pos = 2,)))), MyFactoredState((Redball1Matched = 1, Blackball1Matched = 1), (Redball1 = ObjectState((pos = 4,)), Blackball1 = ObjectState((pos = 3,)), Redbox1 = ObjectState((pos = 3,)), Blackbox1 = ObjectState((pos = 2,)))), MyFactoredState((Redball1Matched = 1, Blackball1Matched = 1), (Redball1 = ObjectState((pos = 1,)), Blackball1 = ObjectState((pos = 4,)), Redbox1 = ObjectState((pos = 3,)), Blackbox1 = ObjectState((pos = 2,)))), MyFactoredState((Redball1Matched = 1, Blackball1Matched = 1), (Redball1 = ObjectState((pos = 2,)), Blackball1 = ObjectState((pos = 4,)), Redbox1 = ObjectState((pos = 3,)), Blackbox1 = ObjectState((pos = 2,)))), MyFactoredState((Redball1Matched = 1, Blackball1Matched = 1), (Redball1 = ObjectState((pos = 3,)), Blackball1 = ObjectState((pos = 4,)), Redbox1 = ObjectState((pos = 3,)), Blackbox1 = ObjectState((pos = 2,)))), MyFactoredState((Redball1Matched = 1, Blackball1Matched = 1), (Redball1 = ObjectState((pos = 4,)), Blackball1 = ObjectState((pos = 4,)), Redbox1 = ObjectState((pos = 3,)), Blackbox1 = ObjectState((pos = 2,)))), MyFactoredState((Redball1Matched = 1, Blackball1Matched = 1), (Redball1 = ObjectState((pos = 1,)), Blackball1 = ObjectState((pos = 1,)), Redbox1 = ObjectState((pos = 4,)), Blackbox1 = ObjectState((pos = 2,)))), MyFactoredState((Redball1Matched = 1, Blackball1Matched = 1), (Redball1 = ObjectState((pos = 2,)), Blackball1 = ObjectState((pos = 1,)), Redbox1 = ObjectState((pos = 4,)), Blackbox1 = ObjectState((pos = 2,)))), MyFactoredState((Redball1Matched = 1, Blackball1Matched = 1), (Redball1 = ObjectState((pos = 3,)), Blackball1 = ObjectState((pos = 1,)), Redbox1 = ObjectState((pos = 4,)), Blackbox1 = ObjectState((pos = 2,)))), MyFactoredState((Redball1Matched = 1, Blackball1Matched = 1), (Redball1 = ObjectState((pos = 4,)), Blackball1 = ObjectState((pos = 1,)), Redbox1 = ObjectState((pos = 4,)), Blackbox1 = ObjectState((pos = 2,)))), MyFactoredState((Redball1Matched = 1, Blackball1Matched = 1), (Redball1 = ObjectState((pos = 1,)), Blackball1 = ObjectState((pos = 2,)), Redbox1 = ObjectState((pos = 4,)), Blackbox1 = ObjectState((pos = 2,)))), MyFactoredState((Redball1Matched = 1, Blackball1Matched = 1), (Redball1 = ObjectState((pos = 2,)), Blackball1 = ObjectState((pos = 2,)), Redbox1 = ObjectState((pos = 4,)), Blackbox1 = ObjectState((pos = 2,)))), MyFactoredState((Redball1Matched = 1, Blackball1Matched = 1), (Redball1 = ObjectState((pos = 3,)), Blackball1 = ObjectState((pos = 2,)), Redbox1 = ObjectState((pos = 4,)), Blackbox1 = ObjectState((pos = 2,)))), MyFactoredState((Redball1Matched = 1, Blackball1Matched = 1), (Redball1 = ObjectState((pos = 4,)), Blackball1 = ObjectState((pos = 2,)), Redbox1 = ObjectState((pos = 4,)), Blackbox1 = ObjectState((pos = 2,)))), MyFactoredState((Redball1Matched = 1, Blackball1Matched = 1), (Redball1 = ObjectState((pos = 1,)), Blackball1 = ObjectState((pos = 3,)), Redbox1 = ObjectState((pos = 4,)), Blackbox1 = ObjectState((pos = 2,)))), MyFactoredState((Redball1Matched = 1, Blackball1Matched = 1), (Redball1 = ObjectState((pos = 2,)), Blackball1 = ObjectState((pos = 3,)), Redbox1 = ObjectState((pos = 4,)), Blackbox1 = ObjectState((pos = 2,)))), MyFactoredState((Redball1Matched = 1, Blackball1Matched = 1), (Redball1 = ObjectState((pos = 3,)), Blackball1 = ObjectState((pos = 3,)), Redbox1 = ObjectState((pos = 4,)), Blackbox1 = ObjectState((pos = 2,)))), MyFactoredState((Redball1Matched = 1, Blackball1Matched = 1), (Redball1 = ObjectState((pos = 4,)), Blackball1 = ObjectState((pos = 3,)), Redbox1 = ObjectState((pos = 4,)), Blackbox1 = ObjectState((pos = 2,)))), MyFactoredState((Redball1Matched = 1, Blackball1Matched = 1), (Redball1 = ObjectState((pos = 1,)), Blackball1 = ObjectState((pos = 4,)), Redbox1 = ObjectState((pos = 4,)), Blackbox1 = ObjectState((pos = 2,)))), MyFactoredState((Redball1Matched = 1, Blackball1Matched = 1), (Redball1 = ObjectState((pos = 2,)), Blackball1 = ObjectState((pos = 4,)), Redbox1 = ObjectState((pos = 4,)), Blackbox1 = ObjectState((pos = 2,)))), MyFactoredState((Redball1Matched = 1, Blackball1Matched = 1), (Redball1 = ObjectState((pos = 3,)), Blackball1 = ObjectState((pos = 4,)), Redbox1 = ObjectState((pos = 4,)), Blackbox1 = ObjectState((pos = 2,)))), MyFactoredState((Redball1Matched = 1, Blackball1Matched = 1), (Redball1 = ObjectState((pos = 4,)), Blackball1 = ObjectState((pos = 4,)), Redbox1 = ObjectState((pos = 4,)), Blackbox1 = ObjectState((pos = 2,)))), MyFactoredState((Redball1Matched = 1, Blackball1Matched = 1), (Redball1 = ObjectState((pos = 1,)), Blackball1 = ObjectState((pos = 1,)), Redbox1 = ObjectState((pos = 1,)), Blackbox1 = ObjectState((pos = 3,)))), MyFactoredState((Redball1Matched = 1, Blackball1Matched = 1), (Redball1 = ObjectState((pos = 2,)), Blackball1 = ObjectState((pos = 1,)), Redbox1 = ObjectState((pos = 1,)), Blackbox1 = ObjectState((pos = 3,)))), MyFactoredState((Redball1Matched = 1, Blackball1Matched = 1), (Redball1 = ObjectState((pos = 3,)), Blackball1 = ObjectState((pos = 1,)), Redbox1 = ObjectState((pos = 1,)), Blackbox1 = ObjectState((pos = 3,)))), MyFactoredState((Redball1Matched = 1, Blackball1Matched = 1), (Redball1 = ObjectState((pos = 4,)), Blackball1 = ObjectState((pos = 1,)), Redbox1 = ObjectState((pos = 1,)), Blackbox1 = ObjectState((pos = 3,)))), MyFactoredState((Redball1Matched = 1, Blackball1Matched = 1), (Redball1 = ObjectState((pos = 1,)), Blackball1 = ObjectState((pos = 2,)), Redbox1 = ObjectState((pos = 1,)), Blackbox1 = ObjectState((pos = 3,)))), MyFactoredState((Redball1Matched = 1, Blackball1Matched = 1), (Redball1 = ObjectState((pos = 2,)), Blackball1 = ObjectState((pos = 2,)), Redbox1 = ObjectState((pos = 1,)), Blackbox1 = ObjectState((pos = 3,)))), MyFactoredState((Redball1Matched = 1, Blackball1Matched = 1), (Redball1 = ObjectState((pos = 3,)), Blackball1 = ObjectState((pos = 2,)), Redbox1 = ObjectState((pos = 1,)), Blackbox1 = ObjectState((pos = 3,)))), MyFactoredState((Redball1Matched = 1, Blackball1Matched = 1), (Redball1 = ObjectState((pos = 4,)), Blackball1 = ObjectState((pos = 2,)), Redbox1 = ObjectState((pos = 1,)), Blackbox1 = ObjectState((pos = 3,)))), MyFactoredState((Redball1Matched = 1, Blackball1Matched = 1), (Redball1 = ObjectState((pos = 1,)), Blackball1 = ObjectState((pos = 3,)), Redbox1 = ObjectState((pos = 1,)), Blackbox1 = ObjectState((pos = 3,)))), MyFactoredState((Redball1Matched = 1, Blackball1Matched = 1), (Redball1 = ObjectState((pos = 2,)), Blackball1 = ObjectState((pos = 3,)), Redbox1 = ObjectState((pos = 1,)), Blackbox1 = ObjectState((pos = 3,)))), MyFactoredState((Redball1Matched = 1, Blackball1Matched = 1), (Redball1 = ObjectState((pos = 3,)), Blackball1 = ObjectState((pos = 3,)), Redbox1 = ObjectState((pos = 1,)), Blackbox1 = ObjectState((pos = 3,)))), MyFactoredState((Redball1Matched = 1, Blackball1Matched = 1), (Redball1 = ObjectState((pos = 4,)), Blackball1 = ObjectState((pos = 3,)), Redbox1 = ObjectState((pos = 1,)), Blackbox1 = ObjectState((pos = 3,)))), MyFactoredState((Redball1Matched = 1, Blackball1Matched = 1), (Redball1 = ObjectState((pos = 1,)), Blackball1 = ObjectState((pos = 4,)), Redbox1 = ObjectState((pos = 1,)), Blackbox1 = ObjectState((pos = 3,)))), MyFactoredState((Redball1Matched = 1, Blackball1Matched = 1), (Redball1 = ObjectState((pos = 2,)), Blackball1 = ObjectState((pos = 4,)), Redbox1 = ObjectState((pos = 1,)), Blackbox1 = ObjectState((pos = 3,)))), MyFactoredState((Redball1Matched = 1, Blackball1Matched = 1), (Redball1 = ObjectState((pos = 3,)), Blackball1 = ObjectState((pos = 4,)), Redbox1 = ObjectState((pos = 1,)), Blackbox1 = ObjectState((pos = 3,)))), MyFactoredState((Redball1Matched = 1, Blackball1Matched = 1), (Redball1 = ObjectState((pos = 4,)), Blackball1 = ObjectState((pos = 4,)), Redbox1 = ObjectState((pos = 1,)), Blackbox1 = ObjectState((pos = 3,)))), MyFactoredState((Redball1Matched = 1, Blackball1Matched = 1), (Redball1 = ObjectState((pos = 1,)), Blackball1 = ObjectState((pos = 1,)), Redbox1 = ObjectState((pos = 2,)), Blackbox1 = ObjectState((pos = 3,)))), MyFactoredState((Redball1Matched = 1, Blackball1Matched = 1), (Redball1 = ObjectState((pos = 2,)), Blackball1 = ObjectState((pos = 1,)), Redbox1 = ObjectState((pos = 2,)), Blackbox1 = ObjectState((pos = 3,)))), MyFactoredState((Redball1Matched = 1, Blackball1Matched = 1), (Redball1 = ObjectState((pos = 3,)), Blackball1 = ObjectState((pos = 1,)), Redbox1 = ObjectState((pos = 2,)), Blackbox1 = ObjectState((pos = 3,)))), MyFactoredState((Redball1Matched = 1, Blackball1Matched = 1), (Redball1 = ObjectState((pos = 4,)), Blackball1 = ObjectState((pos = 1,)), Redbox1 = ObjectState((pos = 2,)), Blackbox1 = ObjectState((pos = 3,)))), MyFactoredState((Redball1Matched = 1, Blackball1Matched = 1), (Redball1 = ObjectState((pos = 1,)), Blackball1 = ObjectState((pos = 2,)), Redbox1 = ObjectState((pos = 2,)), Blackbox1 = ObjectState((pos = 3,)))), MyFactoredState((Redball1Matched = 1, Blackball1Matched = 1), (Redball1 = ObjectState((pos = 2,)), Blackball1 = ObjectState((pos = 2,)), Redbox1 = ObjectState((pos = 2,)), Blackbox1 = ObjectState((pos = 3,)))), MyFactoredState((Redball1Matched = 1, Blackball1Matched = 1), (Redball1 = ObjectState((pos = 3,)), Blackball1 = ObjectState((pos = 2,)), Redbox1 = ObjectState((pos = 2,)), Blackbox1 = ObjectState((pos = 3,)))), MyFactoredState((Redball1Matched = 1, Blackball1Matched = 1), (Redball1 = ObjectState((pos = 4,)), Blackball1 = ObjectState((pos = 2,)), Redbox1 = ObjectState((pos = 2,)), Blackbox1 = ObjectState((pos = 3,)))), MyFactoredState((Redball1Matched = 1, Blackball1Matched = 1), (Redball1 = ObjectState((pos = 1,)), Blackball1 = ObjectState((pos = 3,)), Redbox1 = ObjectState((pos = 2,)), Blackbox1 = ObjectState((pos = 3,)))), MyFactoredState((Redball1Matched = 1, Blackball1Matched = 1), (Redball1 = ObjectState((pos = 2,)), Blackball1 = ObjectState((pos = 3,)), Redbox1 = ObjectState((pos = 2,)), Blackbox1 = ObjectState((pos = 3,)))), MyFactoredState((Redball1Matched = 1, Blackball1Matched = 1), (Redball1 = ObjectState((pos = 3,)), Blackball1 = ObjectState((pos = 3,)), Redbox1 = ObjectState((pos = 2,)), Blackbox1 = ObjectState((pos = 3,)))), MyFactoredState((Redball1Matched = 1, Blackball1Matched = 1), (Redball1 = ObjectState((pos = 4,)), Blackball1 = ObjectState((pos = 3,)), Redbox1 = ObjectState((pos = 2,)), Blackbox1 = ObjectState((pos = 3,)))), MyFactoredState((Redball1Matched = 1, Blackball1Matched = 1), (Redball1 = ObjectState((pos = 1,)), Blackball1 = ObjectState((pos = 4,)), Redbox1 = ObjectState((pos = 2,)), Blackbox1 = ObjectState((pos = 3,)))), MyFactoredState((Redball1Matched = 1, Blackball1Matched = 1), (Redball1 = ObjectState((pos = 2,)), Blackball1 = ObjectState((pos = 4,)), Redbox1 = ObjectState((pos = 2,)), Blackbox1 = ObjectState((pos = 3,)))), MyFactoredState((Redball1Matched = 1, Blackball1Matched = 1), (Redball1 = ObjectState((pos = 3,)), Blackball1 = ObjectState((pos = 4,)), Redbox1 = ObjectState((pos = 2,)), Blackbox1 = ObjectState((pos = 3,)))), MyFactoredState((Redball1Matched = 1, Blackball1Matched = 1), (Redball1 = ObjectState((pos = 4,)), Blackball1 = ObjectState((pos = 4,)), Redbox1 = ObjectState((pos = 2,)), Blackbox1 = ObjectState((pos = 3,)))), MyFactoredState((Redball1Matched = 1, Blackball1Matched = 1), (Redball1 = ObjectState((pos = 1,)), Blackball1 = ObjectState((pos = 1,)), Redbox1 = ObjectState((pos = 3,)), Blackbox1 = ObjectState((pos = 3,)))), MyFactoredState((Redball1Matched = 1, Blackball1Matched = 1), (Redball1 = ObjectState((pos = 2,)), Blackball1 = ObjectState((pos = 1,)), Redbox1 = ObjectState((pos = 3,)), Blackbox1 = ObjectState((pos = 3,)))), MyFactoredState((Redball1Matched = 1, Blackball1Matched = 1), (Redball1 = ObjectState((pos = 3,)), Blackball1 = ObjectState((pos = 1,)), Redbox1 = ObjectState((pos = 3,)), Blackbox1 = ObjectState((pos = 3,)))), MyFactoredState((Redball1Matched = 1, Blackball1Matched = 1), (Redball1 = ObjectState((pos = 4,)), Blackball1 = ObjectState((pos = 1,)), Redbox1 = ObjectState((pos = 3,)), Blackbox1 = ObjectState((pos = 3,)))), MyFactoredState((Redball1Matched = 1, Blackball1Matched = 1), (Redball1 = ObjectState((pos = 1,)), Blackball1 = ObjectState((pos = 2,)), Redbox1 = ObjectState((pos = 3,)), Blackbox1 = ObjectState((pos = 3,)))), MyFactoredState((Redball1Matched = 1, Blackball1Matched = 1), (Redball1 = ObjectState((pos = 2,)), Blackball1 = ObjectState((pos = 2,)), Redbox1 = ObjectState((pos = 3,)), Blackbox1 = ObjectState((pos = 3,)))), MyFactoredState((Redball1Matched = 1, Blackball1Matched = 1), (Redball1 = ObjectState((pos = 3,)), Blackball1 = ObjectState((pos = 2,)), Redbox1 = ObjectState((pos = 3,)), Blackbox1 = ObjectState((pos = 3,)))), MyFactoredState((Redball1Matched = 1, Blackball1Matched = 1), (Redball1 = ObjectState((pos = 4,)), Blackball1 = ObjectState((pos = 2,)), Redbox1 = ObjectState((pos = 3,)), Blackbox1 = ObjectState((pos = 3,)))), MyFactoredState((Redball1Matched = 1, Blackball1Matched = 1), (Redball1 = ObjectState((pos = 1,)), Blackball1 = ObjectState((pos = 3,)), Redbox1 = ObjectState((pos = 3,)), Blackbox1 = ObjectState((pos = 3,)))), MyFactoredState((Redball1Matched = 1, Blackball1Matched = 1), (Redball1 = ObjectState((pos = 2,)), Blackball1 = ObjectState((pos = 3,)), Redbox1 = ObjectState((pos = 3,)), Blackbox1 = ObjectState((pos = 3,)))), MyFactoredState((Redball1Matched = 1, Blackball1Matched = 1"
     ]
    },
    {
     "name": "stderr",
     "output_type": "stream",
     "text": [
      "Excessive output truncated after 524292 bytes."
     ]
    },
    {
     "name": "stdout",
     "output_type": "stream",
     "text": [
      "), (Redball1 = ObjectState((pos = 3,)), Blackball1 = ObjectState((pos = 3,)), Redbox1 = ObjectState((pos = 3,)), Blackbox1 = ObjectState(("
     ]
    }
   ],
   "source": [
    "print(mdp.goal_states)"
   ]
  },
  {
   "cell_type": "code",
   "execution_count": 253,
   "metadata": {},
   "outputs": [],
   "source": [
    "\n",
    "function POMDPs.reward(mdp::GameMDP, s::MyFactoredState, a::MatchAction, sp::MyFactoredState)\n",
    "    if (sp in mdp.goal_states)\n",
    "        return 1.0\n",
    "    else\n",
    "        return 0.0\n",
    "    end\n",
    "end\n",
    "\n",
    "# Now we can define the reward function given the state and action\n",
    "function POMDPs.reward(mdp::GameMDP, s::MyFactoredState, a::MatchAction)\n",
    "    r = 0.0\n",
    "    for (sp, p) in transition(mdp, s, a)\n",
    "        r += p * reward(mdp, s, a, sp)\n",
    "    end\n",
    "    return r\n",
    "end"
   ]
  },
  {
   "cell_type": "code",
   "execution_count": 254,
   "metadata": {},
   "outputs": [],
   "source": [
    "function POMDPs.discount(mdp::GameMDP)\n",
    "    return mdp.discount_factor\n",
    "end"
   ]
  },
  {
   "cell_type": "code",
   "execution_count": 255,
   "metadata": {},
   "outputs": [
    {
     "data": {
      "text/plain": [
       "true"
      ]
     },
     "metadata": {},
     "output_type": "display_data"
    }
   ],
   "source": [
    "using POMDPLinter, POMDPModels, POMDPTools, DiscreteValueIteration\n",
    "solver = ValueIterationSolver()\n",
    "@show_requirements POMDPs.solve(solver, mdp)"
   ]
  },
  {
   "cell_type": "code",
   "execution_count": 260,
   "metadata": {},
   "outputs": [
    {
     "data": {
      "text/plain": [
       "ValueIterationPolicy:\n",
       " MyFactoredState((Redball1Matched = 0, Blackball1Matched = 0), (Redball1 = ObjectState((pos = 1,)), Blackball1 = ObjectState((pos = 1,)), Redbox1 = ObjectState((pos = 1,)), Blackbox1 = ObjectState((pos = 1,)))) -> MatchAction(:Redball1, :Redbox1)\n",
       " MyFactoredState((Redball1Matched = 0, Blackball1Matched = 0), (Redball1 = ObjectState((pos = 2,)), Blackball1 = ObjectState((pos = 1,)), Redbox1 = ObjectState((pos = 1,)), Blackbox1 = ObjectState((pos = 1,)))) -> MatchAction(:Redball1, :Redbox1)\n",
       " MyFactoredState((Redball1Matched = 0, Blackball1Matched = 0), (Redball1 = ObjectState((pos = 3,)), Blackball1 = ObjectState((pos = 1,)), Redbox1 = ObjectState((pos = 1,)), Blackbox1 = ObjectState((pos = 1,)))) -> MatchAction(:Redball1, :Redbox1)\n",
       " MyFactoredState((Redball1Matched = 0, Blackball1Matched = 0), (Redball1 = ObjectState((pos = 4,)), Blackball1 = ObjectState((pos = 1,)), Redbox1 = ObjectState((pos = 1,)), Blackbox1 = ObjectState((pos = 1,)))) -> MatchAction(:Redball1, :Redbox1)\n",
       " MyFactoredState((Redball1Matched = 0, Blackball1Matched = 0), (Redball1 = ObjectState((pos = 1,)), Blackball1 = ObjectState((pos = 2,)), Redbox1 = ObjectState((pos = 1,)), Blackbox1 = ObjectState((pos = 1,)))) -> MatchAction(:Redball1, :Redbox1)\n",
       " MyFactoredState((Redball1Matched = 0, Blackball1Matched = 0), (Redball1 = ObjectState((pos = 2,)), Blackball1 = ObjectState((pos = 2,)), Redbox1 = ObjectState((pos = 1,)), Blackbox1 = ObjectState((pos = 1,)))) -> MatchAction(:Redball1, :Redbox1)\n",
       " MyFactoredState((Redball1Matched = 0, Blackball1Matched = 0), (Redball1 = ObjectState((pos = 3,)), Blackball1 = ObjectState((pos = 2,)), Redbox1 = ObjectState((pos = 1,)), Blackbox1 = ObjectState((pos = 1,)))) -> MatchAction(:Redball1, :Redbox1)\n",
       " MyFactoredState((Redball1Matched = 0, Blackball1Matched = 0), (Redball1 = ObjectState((pos = 4,)), Blackball1 = ObjectState((pos = 2,)), Redbox1 = ObjectState((pos = 1,)), Blackbox1 = ObjectState((pos = 1,)))) -> MatchAction(:Redball1, :Redbox1)\n",
       " MyFactoredState((Redball1Matched = 0, Blackball1Matched = 0), (Redball1 = ObjectState((pos = 1,)), Blackball1 = ObjectState((pos = 3,)), Redbox1 = ObjectState((pos = 1,)), Blackbox1 = ObjectState((pos = 1,)))) -> MatchAction(:Redball1, :Redbox1)\n",
       " MyFactoredState((Redball1Matched = 0, Blackball1Matched = 0), (Redball1 = ObjectState((pos = 2,)), Blackball1 = ObjectState((pos = 3,)), Redbox1 = ObjectState((pos = 1,)), Blackbox1 = ObjectState((pos = 1,)))) -> MatchAction(:Redball1, :Redbox1)\n",
       " MyFactoredState((Redball1Matched = 0, Blackball1Matched = 0), (Redball1 = ObjectState((pos = 3,)), Blackball1 = ObjectState((pos = 3,)), Redbox1 = ObjectState((pos = 1,)), Blackbox1 = ObjectState((pos = 1,)))) -> MatchAction(:Redball1, :Redbox1)\n",
       " MyFactoredState((Redball1Matched = 0, Blackball1Matched = 0), (Redball1 = ObjectState((pos = 4,)), Blackball1 = ObjectState((pos = 3,)), Redbox1 = ObjectState((pos = 1,)), Blackbox1 = ObjectState((pos = 1,)))) -> MatchAction(:Redball1, :Redbox1)\n",
       " MyFactoredState((Redball1Matched = 0, Blackball1Matched = 0), (Redball1 = ObjectState((pos = 1,)), Blackball1 = ObjectState((pos = 4,)), Redbox1 = ObjectState((pos = 1,)), Blackbox1 = ObjectState((pos = 1,)))) -> MatchAction(:Redball1, :Redbox1)\n",
       " MyFactoredState((Redball1Matched = 0, Blackball1Matched = 0), (Redball1 = ObjectState((pos = 2,)), Blackball1 = ObjectState((pos = 4,)), Redbox1 = ObjectState((pos = 1,)), Blackbox1 = ObjectState((pos = 1,)))) -> MatchAction(:Redball1, :Redbox1)\n",
       " MyFactoredState((Redball1Matched = 0, Blackball1Matched = 0), (Redball1 = ObjectState((pos = 3,)), Blackball1 = ObjectState((pos = 4,)), Redbox1 = ObjectState((pos = 1,)), Blackbox1 = ObjectState((pos = 1,)))) -> MatchAction(:Redball1, :Redbox1)\n",
       " MyFactoredState((Redball1Matched = 0, Blackball1Matched = 0), (Redball1 = ObjectState((pos = 4,)), Blackball1 = ObjectState((pos = 4,)), Redbox1 = ObjectState((pos = 1,)), Blackbox1 = ObjectState((pos = 1,)))) -> MatchAction(:Redball1, :Redbox1)\n",
       " MyFactoredState((Redball1Matched = 0, Blackball1Matched = 0), (Redball1 = ObjectState((pos = 1,)), Blackball1 = ObjectState((pos = 1,)), Redbox1 = ObjectState((pos = 2,)), Blackbox1 = ObjectState((pos = 1,)))) -> MatchAction(:Redball1, :Redbox1)\n",
       " MyFactoredState((Redball1Matched = 0, Blackball1Matched = 0), (Redball1 = ObjectState((pos = 2,)), Blackball1 = ObjectState((pos = 1,)), Redbox1 = ObjectState((pos = 2,)), Blackbox1 = ObjectState((pos = 1,)))) -> MatchAction(:Blackball1, :Redbox1)\n",
       " MyFactoredState((Redball1Matched = 0, Blackball1Matched = 0), (Redball1 = ObjectState((pos = 3,)), Blackball1 = ObjectState((pos = 1,)), Redbox1 = ObjectState((pos = 2,)), Blackbox1 = ObjectState((pos = 1,)))) -> MatchAction(:Redball1, :Redbox1)\n",
       " …"
      ]
     },
     "metadata": {},
     "output_type": "display_data"
    }
   ],
   "source": [
    "solver = ValueIterationSolver(; max_iterations=100, verbose=true)\n",
    "vi_policy = POMDPs.solve(solver, mdp)\n"
   ]
  },
  {
   "cell_type": "code",
   "execution_count": 267,
   "metadata": {},
   "outputs": [
    {
     "data": {
      "text/plain": [
       "MatchAction(:Blackball1, :Blackbox1)"
      ]
     },
     "metadata": {},
     "output_type": "display_data"
    }
   ],
   "source": [
    "s =  MyFactoredState(\n",
    "    NamedTuple((Redball1Matched = 1, Blackball1Matched = 0)),\n",
    "    NamedTuple((Redball1 = ObjectState((pos = 3,)), Blackball1 = ObjectState((pos = 2,)), Redbox1 = ObjectState((pos = 3, )), Blackbox1 = ObjectState((pos = 4,))))\n",
    ")\n",
    "\n",
    "@show action(vi_policy, s)"
   ]
  },
  {
   "cell_type": "code",
   "execution_count": 273,
   "metadata": {},
   "outputs": [
    {
     "data": {
      "text/plain": [
       "0.0"
      ]
     },
     "metadata": {},
     "output_type": "display_data"
    }
   ],
   "source": [
    "# print(s)\n",
    "# POMDPs.transition(mdp, s,  MatchAction(:Blackball1, :Blackbox1))\n",
    "# POMDPs.reward(mdp, s, MatchAction(:Blackball1, :Blackbox1))\n",
    "POMDPs.reward(mdp, s, MatchAction(:Redball1, :Redbox1))"
   ]
  },
  {
   "cell_type": "code",
   "execution_count": 230,
   "metadata": {},
   "outputs": [],
   "source": []
  },
  {
   "cell_type": "code",
   "execution_count": 231,
   "metadata": {},
   "outputs": [],
   "source": []
  }
 ],
 "metadata": {
  "kernelspec": {
   "display_name": "Julia 1.10.5",
   "language": "julia",
   "name": "julia-1.10"
  },
  "language_info": {
   "file_extension": ".jl",
   "mimetype": "application/julia",
   "name": "julia",
   "version": "1.10.5"
  }
 },
 "nbformat": 4,
 "nbformat_minor": 2
}
